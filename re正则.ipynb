{
 "cells": [
  {
   "cell_type": "markdown",
   "metadata": {},
   "source": [
    "# RE使用大致步骤\n",
    "-  使用compile将表示正则的字符串编译为一个pattern对象\n",
    "-  通过pattern对象提供一系列方法对文本进行查找匹配，获得匹配结果，一个Match对象\n",
    "-  最后使用Match对象提供的属性和方法获得信息，根据需要进行操作"
   ]
  },
  {
   "cell_type": "markdown",
   "metadata": {},
   "source": [
    "# RE常用函数\n",
    "- group(): 获得一个或者多个分组匹配的字符串，当要获得整个匹配的子串时，直接使用group或者group(0)\n",
    "- start: 获得分组匹配的子串在整个字符串中的起始位置，参数默认为0\n",
    "- end: 获取分组匹配的子串在整个字符串中的阶数位置，默 认为0\n",
    "- span: 返回的跨度(start(group),end(group))"
   ]
  },
  {
   "cell_type": "code",
   "execution_count": 7,
   "metadata": {},
   "outputs": [
    {
     "name": "stdout",
     "output_type": "stream",
     "text": [
      "None\n"
     ]
    }
   ],
   "source": [
    "# 导入相关包\n",
    "import re\n",
    "#查找数字\n",
    "#r表示字符串不转义\n",
    "p = re.compile(r'\\d+')  # \\d表示一个数字，+号表示至少出现一次\n",
    "# 在字符串\"one12twothree334for2\"中进行查找，按照规定的正则进行查找\n",
    "res = p.match(\"one12twothree334for2\")\n",
    "#返回结果是None表示没有找到，否则会返回match对象\n",
    "print(res)"
   ]
  },
  {
   "cell_type": "code",
   "execution_count": 16,
   "metadata": {},
   "outputs": [
    {
     "name": "stdout",
     "output_type": "stream",
     "text": [
      "<_sre.SRE_Match object; span=(3, 5), match='12'>\n"
     ]
    }
   ],
   "source": [
    "# 导入相关包\n",
    "import re\n",
    "#查找数字\n",
    "#r表示字符串不转义\n",
    "p = re.compile(r'\\d+')  # \\d表示一个数字，+号表示至少出现一次\n",
    "# 在字符串\"one12twothree334for2\"中进行查找，按照规定的正则进行查找\n",
    "#参数3,6表示在字符串中查找的范围  （3:6） = 3,4,5\n",
    "res = p.match(\"one12twothree334for2\",3,16)\n",
    "#返回结果是None表示没有找到，否则会返回match对象\n",
    "print(res)\n",
    "\n",
    "#上述代码说明的问题\n",
    "# 1. match可以输入参数表示起始位置\n",
    "# 2. 查找到的结果只包含一个，表示第一次进行匹配成功的内容"
   ]
  },
  {
   "cell_type": "code",
   "execution_count": 23,
   "metadata": {},
   "outputs": [
    {
     "name": "stdout",
     "output_type": "stream",
     "text": [
      "12\n",
      "3\n",
      "5\n"
     ]
    }
   ],
   "source": [
    "print(res[0])#找出的值\n",
    "print(res.start(0))#开始位置\n",
    "print(res.end(0))#结束位置"
   ]
  },
  {
   "cell_type": "code",
   "execution_count": 26,
   "metadata": {},
   "outputs": [
    {
     "name": "stdout",
     "output_type": "stream",
     "text": [
      "<_sre.SRE_Match object; span=(0, 4), match='I am'>\n",
      "I am\n",
      "0\n",
      "4\n"
     ]
    }
   ],
   "source": [
    "import re\n",
    "#I 表示忽略掉大小写\n",
    "\n",
    "p = re.compile(r'([a-z]+) ([a-z]+)',re.I)#字符集从a-z  空格\n",
    "res =p.match(\"I am really love you\")\n",
    "print(res)\n",
    "print(res.group(0))#参数为0表示整个结果\n",
    "print(res.start(0))\n",
    "print(res.end(0))"
   ]
  },
  {
   "cell_type": "code",
   "execution_count": 29,
   "metadata": {
    "scrolled": true
   },
   "outputs": [
    {
     "name": "stdout",
     "output_type": "stream",
     "text": [
      "I\n",
      "0\n",
      "1\n"
     ]
    }
   ],
   "source": [
    "print(res.group(1))#参数为1表示第一块  ([a-z]+)\n",
    "print(res.start(1))\n",
    "print(res.end(1))"
   ]
  },
  {
   "cell_type": "code",
   "execution_count": 31,
   "metadata": {},
   "outputs": [
    {
     "name": "stdout",
     "output_type": "stream",
     "text": [
      "('I', 'am')\n"
     ]
    }
   ],
   "source": [
    "print(res.groups()) #打印出来所有的分组"
   ]
  },
  {
   "cell_type": "markdown",
   "metadata": {},
   "source": [
    "# 查找\n",
    "- search(str,[,pos[,endpos]]):在字符串中查找匹配，pos和endpos表示起始位置\n",
    "- findall : 查找所有\n",
    "- finditer : 查找，返回一个iter结果"
   ]
  },
  {
   "cell_type": "code",
   "execution_count": 32,
   "metadata": {},
   "outputs": [
    {
     "name": "stdout",
     "output_type": "stream",
     "text": [
      "123\n"
     ]
    }
   ],
   "source": [
    "import re\n",
    "p = re.compile(r'\\d+')\n",
    "res = p.search(\"one123jeriejodfj12o4jo13j5r\")\n",
    "print(res.group())"
   ]
  },
  {
   "cell_type": "code",
   "execution_count": 33,
   "metadata": {},
   "outputs": [
    {
     "name": "stdout",
     "output_type": "stream",
     "text": [
      "<class 'list'>\n",
      "['123', '12', '4', '13', '5']\n"
     ]
    }
   ],
   "source": [
    "rst = p.findall(\"one123jeriejodfj12o4jo13j5r\")\n",
    "print(type(rst))\n",
    "print(rst )"
   ]
  },
  {
   "cell_type": "markdown",
   "metadata": {},
   "source": [
    "# sub 替换\n",
    "- sub(repl,str[,count])"
   ]
  },
  {
   "cell_type": "code",
   "execution_count": 35,
   "metadata": {},
   "outputs": [
    {
     "name": "stdout",
     "output_type": "stream",
     "text": [
      "[('hell', '12'), ('232', 'dw'), ('r123', 'daoo'), ('id', 'lov')]\n"
     ]
    }
   ],
   "source": [
    "# sub替换案例\n",
    "import re\n",
    "p = re.compile(r'(\\w+) (\\w+)')  #\\w表示字符\n",
    "str='hell 12 232 dw  r123 daoo,id lov'\n",
    "res = p.findall(str)\n",
    "print(res)\n",
    "rst = p.sub(r'Hello word',str)"
   ]
  },
  {
   "cell_type": "markdown",
   "metadata": {},
   "source": [
    "# 匹配中文\n",
    "- 大部分中文内容表示范围是[u4e00-u9fa5]，不包括全角标点"
   ]
  },
  {
   "cell_type": "code",
   "execution_count": 38,
   "metadata": {},
   "outputs": [
    {
     "name": "stdout",
     "output_type": "stream",
     "text": [
      "['世界', '你好']\n"
     ]
    }
   ],
   "source": [
    "import re\n",
    "title = u'世界 你好,hello moto'\n",
    "p = re.compile(r'[\\u4e00-\\u9fa5]+')\n",
    "res = p.findall(title)\n",
    "print(res)"
   ]
  },
  {
   "cell_type": "markdown",
   "metadata": {},
   "source": [
    "# 贪婪和非贪婪\n",
    "- 贪婪：尽可能多的匹配，(*)表示贪婪匹配\n",
    "- 非贪婪： 找到符合条件的最小内容即可，（?）表示非贪婪\n",
    "- 正则默认使用贪婪匹配"
   ]
  },
  {
   "cell_type": "code",
   "execution_count": 40,
   "metadata": {},
   "outputs": [
    {
     "name": "stdout",
     "output_type": "stream",
     "text": [
      "<div>name</div><div>age</div>\n",
      "<div>name</div>\n"
     ]
    }
   ],
   "source": [
    "import re \n",
    "title = u'<div>name</div><div>age</div>}'\n",
    "p1 = re.compile(r'<div>.*</div>')\n",
    "p2 = re.compile(r'<div>.*?</div>')\n",
    "m1 = p1.search(title)\n",
    "print(m1.group())\n",
    "m2 = p2.search(title)\n",
    "print(m2.group())"
   ]
  },
  {
   "cell_type": "code",
   "execution_count": null,
   "metadata": {},
   "outputs": [],
   "source": []
  }
 ],
 "metadata": {
  "kernelspec": {
   "display_name": "Python 3",
   "language": "python",
   "name": "python3"
  },
  "language_info": {
   "codemirror_mode": {
    "name": "ipython",
    "version": 3
   },
   "file_extension": ".py",
   "mimetype": "text/x-python",
   "name": "python",
   "nbconvert_exporter": "python",
   "pygments_lexer": "ipython3",
   "version": "3.6.4"
  }
 },
 "nbformat": 4,
 "nbformat_minor": 2
}
